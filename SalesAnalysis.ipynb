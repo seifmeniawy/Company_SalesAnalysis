{
 "cells": [
  {
   "cell_type": "markdown",
   "id": "4b5e2d95-9b21-4df7-9f1a-11ef8f91a139",
   "metadata": {},
   "source": [
    "# Sales Analysis on Company Data"
   ]
  },
  {
   "cell_type": "markdown",
   "id": "36382b03-1476-4069-b268-1b3d5c33cd5a",
   "metadata": {
    "tags": []
   },
   "source": [
    "#### Importing essential packages"
   ]
  },
  {
   "cell_type": "code",
   "execution_count": 1,
   "id": "34e9885c-6672-4ee2-8c25-ebb040ed3b97",
   "metadata": {},
   "outputs": [],
   "source": [
    "import os\n",
    "import numpy as np\n",
    "import pandas as pd\n",
    "import seaborn as sns\n",
    "import matplotlib.pyplot as plt\n",
    "import matplotlib.ticker as mticker\n",
    "%matplotlib inline"
   ]
  },
  {
   "cell_type": "markdown",
   "id": "91caec3c-e080-479c-b19b-d1ee97995c5c",
   "metadata": {
    "tags": []
   },
   "source": [
    "#### Merging Excel files into one single file."
   ]
  },
  {
   "cell_type": "code",
   "execution_count": 2,
   "id": "98dc81b7-0b91-4284-ba0a-9eba7899c82b",
   "metadata": {},
   "outputs": [],
   "source": [
    "data_folder = './Sales_Data/'\n",
    "\n",
    "df = []\n",
    "\n",
    "for file in os.listdir(data_folder):\n",
    "    df.append(pd.read_csv(os.path.join(data_folder, file)))"
   ]
  },
  {
   "cell_type": "code",
   "execution_count": 3,
   "id": "edf6852c-c149-42ca-a1d2-2fcf58bb1337",
   "metadata": {},
   "outputs": [
    {
     "data": {
      "text/plain": [
       "12"
      ]
     },
     "execution_count": 3,
     "metadata": {},
     "output_type": "execute_result"
    }
   ],
   "source": [
    "len(df)"
   ]
  },
  {
   "cell_type": "code",
   "execution_count": 4,
   "id": "ec5033fc-411b-4725-a681-8cc443327edc",
   "metadata": {},
   "outputs": [],
   "source": [
    "all_data = pd.concat(df)\n",
    "all_data.to_csv('all_data.csv', index=False)"
   ]
  },
  {
   "cell_type": "markdown",
   "id": "dd2c6c4b-7ad1-4cc2-9d0e-dd1a6645e2ed",
   "metadata": {},
   "source": [
    "> The files were merged successfully"
   ]
  },
  {
   "cell_type": "markdown",
   "id": "db5f7a5e-a425-49b2-a4d8-43bdcbcb10f0",
   "metadata": {
    "tags": []
   },
   "source": [
    "### Cleaning Data"
   ]
  },
  {
   "cell_type": "code",
   "execution_count": 5,
   "id": "0b0df05a-f437-4155-9cb1-dfc2f04750b7",
   "metadata": {},
   "outputs": [],
   "source": [
    "sales_df = pd.read_csv('./all_data.csv')"
   ]
  },
  {
   "cell_type": "code",
   "execution_count": 6,
   "id": "2d455160-b779-4920-8923-08fddbea4b37",
   "metadata": {},
   "outputs": [
    {
     "name": "stdout",
     "output_type": "stream",
     "text": [
      "<class 'pandas.core.frame.DataFrame'>\n",
      "RangeIndex: 186850 entries, 0 to 186849\n",
      "Data columns (total 6 columns):\n",
      " #   Column            Non-Null Count   Dtype \n",
      "---  ------            --------------   ----- \n",
      " 0   Order ID          186305 non-null  object\n",
      " 1   Product           186305 non-null  object\n",
      " 2   Quantity Ordered  186305 non-null  object\n",
      " 3   Price Each        186305 non-null  object\n",
      " 4   Order Date        186305 non-null  object\n",
      " 5   Purchase Address  186305 non-null  object\n",
      "dtypes: object(6)\n",
      "memory usage: 8.6+ MB\n"
     ]
    }
   ],
   "source": [
    "sales_df.info()"
   ]
  },
  {
   "cell_type": "code",
   "execution_count": 7,
   "id": "a3883155-a83f-417b-92ad-ce1f9f23d534",
   "metadata": {},
   "outputs": [
    {
     "data": {
      "text/plain": [
       "(186850, 6)"
      ]
     },
     "execution_count": 7,
     "metadata": {},
     "output_type": "execute_result"
    }
   ],
   "source": [
    "sales_df.shape"
   ]
  },
  {
   "cell_type": "code",
   "execution_count": 8,
   "id": "a6b62d2d-6f73-4de3-974f-15233f203c9e",
   "metadata": {},
   "outputs": [
    {
     "data": {
      "text/plain": [
       "1162"
      ]
     },
     "execution_count": 8,
     "metadata": {},
     "output_type": "execute_result"
    }
   ],
   "source": [
    "sales_df.duplicated().sum()"
   ]
  },
  {
   "cell_type": "code",
   "execution_count": 9,
   "id": "0e714823-d949-446d-8938-9a26ae05da8b",
   "metadata": {},
   "outputs": [],
   "source": [
    "sales_df.drop_duplicates(ignore_index=True, inplace=True)"
   ]
  },
  {
   "cell_type": "code",
   "execution_count": 10,
   "id": "f5df342f-2e45-4757-9ff7-69d9b4998dfc",
   "metadata": {},
   "outputs": [
    {
     "data": {
      "text/plain": [
       "0"
      ]
     },
     "execution_count": 10,
     "metadata": {},
     "output_type": "execute_result"
    }
   ],
   "source": [
    "sales_df.duplicated().sum()"
   ]
  },
  {
   "cell_type": "code",
   "execution_count": 11,
   "id": "57db81aa-2d8c-4476-8a78-35a2ec976f18",
   "metadata": {},
   "outputs": [
    {
     "data": {
      "text/plain": [
       "Order ID            1\n",
       "Product             1\n",
       "Quantity Ordered    1\n",
       "Price Each          1\n",
       "Order Date          1\n",
       "Purchase Address    1\n",
       "dtype: int64"
      ]
     },
     "execution_count": 11,
     "metadata": {},
     "output_type": "execute_result"
    }
   ],
   "source": [
    "sales_df.isnull().sum()"
   ]
  },
  {
   "cell_type": "code",
   "execution_count": 12,
   "id": "81e7b011-3baa-47a1-97ee-8f8eb6edc85a",
   "metadata": {},
   "outputs": [],
   "source": [
    "sales_df.dropna(inplace=True)"
   ]
  },
  {
   "cell_type": "code",
   "execution_count": 13,
   "id": "bc25051c-a76d-438b-9638-652b9c24a1ae",
   "metadata": {},
   "outputs": [
    {
     "data": {
      "text/plain": [
       "Order ID            0\n",
       "Product             0\n",
       "Quantity Ordered    0\n",
       "Price Each          0\n",
       "Order Date          0\n",
       "Purchase Address    0\n",
       "dtype: int64"
      ]
     },
     "execution_count": 13,
     "metadata": {},
     "output_type": "execute_result"
    }
   ],
   "source": [
    "sales_df.isnull().sum()"
   ]
  },
  {
   "cell_type": "code",
   "execution_count": 14,
   "id": "536978c0-b4eb-4a5c-abd8-5057ed4a9094",
   "metadata": {},
   "outputs": [
    {
     "data": {
      "text/html": [
       "<div>\n",
       "<style scoped>\n",
       "    .dataframe tbody tr th:only-of-type {\n",
       "        vertical-align: middle;\n",
       "    }\n",
       "\n",
       "    .dataframe tbody tr th {\n",
       "        vertical-align: top;\n",
       "    }\n",
       "\n",
       "    .dataframe thead th {\n",
       "        text-align: right;\n",
       "    }\n",
       "</style>\n",
       "<table border=\"1\" class=\"dataframe\">\n",
       "  <thead>\n",
       "    <tr style=\"text-align: right;\">\n",
       "      <th></th>\n",
       "      <th>Order ID</th>\n",
       "      <th>Product</th>\n",
       "      <th>Quantity Ordered</th>\n",
       "      <th>Price Each</th>\n",
       "      <th>Order Date</th>\n",
       "      <th>Purchase Address</th>\n",
       "    </tr>\n",
       "  </thead>\n",
       "  <tbody>\n",
       "    <tr>\n",
       "      <th>0</th>\n",
       "      <td>295665</td>\n",
       "      <td>Macbook Pro Laptop</td>\n",
       "      <td>1</td>\n",
       "      <td>1700</td>\n",
       "      <td>12/30/19 00:01</td>\n",
       "      <td>136 Church St, New York City, NY 10001</td>\n",
       "    </tr>\n",
       "    <tr>\n",
       "      <th>1</th>\n",
       "      <td>295666</td>\n",
       "      <td>LG Washing Machine</td>\n",
       "      <td>1</td>\n",
       "      <td>600.0</td>\n",
       "      <td>12/29/19 07:03</td>\n",
       "      <td>562 2nd St, New York City, NY 10001</td>\n",
       "    </tr>\n",
       "    <tr>\n",
       "      <th>2</th>\n",
       "      <td>295667</td>\n",
       "      <td>USB-C Charging Cable</td>\n",
       "      <td>1</td>\n",
       "      <td>11.95</td>\n",
       "      <td>12/12/19 18:21</td>\n",
       "      <td>277 Main St, New York City, NY 10001</td>\n",
       "    </tr>\n",
       "    <tr>\n",
       "      <th>3</th>\n",
       "      <td>295668</td>\n",
       "      <td>27in FHD Monitor</td>\n",
       "      <td>1</td>\n",
       "      <td>149.99</td>\n",
       "      <td>12/22/19 15:13</td>\n",
       "      <td>410 6th St, San Francisco, CA 94016</td>\n",
       "    </tr>\n",
       "    <tr>\n",
       "      <th>4</th>\n",
       "      <td>295669</td>\n",
       "      <td>USB-C Charging Cable</td>\n",
       "      <td>1</td>\n",
       "      <td>11.95</td>\n",
       "      <td>12/18/19 12:38</td>\n",
       "      <td>43 Hill St, Atlanta, GA 30301</td>\n",
       "    </tr>\n",
       "  </tbody>\n",
       "</table>\n",
       "</div>"
      ],
      "text/plain": [
       "  Order ID               Product Quantity Ordered Price Each      Order Date  \\\n",
       "0   295665    Macbook Pro Laptop                1       1700  12/30/19 00:01   \n",
       "1   295666    LG Washing Machine                1      600.0  12/29/19 07:03   \n",
       "2   295667  USB-C Charging Cable                1      11.95  12/12/19 18:21   \n",
       "3   295668      27in FHD Monitor                1     149.99  12/22/19 15:13   \n",
       "4   295669  USB-C Charging Cable                1      11.95  12/18/19 12:38   \n",
       "\n",
       "                         Purchase Address  \n",
       "0  136 Church St, New York City, NY 10001  \n",
       "1     562 2nd St, New York City, NY 10001  \n",
       "2    277 Main St, New York City, NY 10001  \n",
       "3     410 6th St, San Francisco, CA 94016  \n",
       "4           43 Hill St, Atlanta, GA 30301  "
      ]
     },
     "execution_count": 14,
     "metadata": {},
     "output_type": "execute_result"
    }
   ],
   "source": [
    "sales_df.head()"
   ]
  },
  {
   "cell_type": "markdown",
   "id": "0ed0e36c-7e6d-429d-9862-dc32f9e25c10",
   "metadata": {
    "tags": []
   },
   "source": [
    "### Adding Month Column"
   ]
  },
  {
   "cell_type": "markdown",
   "id": "d825e6cf-8c6c-4e98-ba70-677b95a373ef",
   "metadata": {},
   "source": [
    "> Upon running this code 'sales_df['Order Date'] = pd.to_datetime(sales_df['Order Date'])', an error was raised which means that there is an invalid entry in the 'Order Date' column, I went ahead and searched for the wrong entry"
   ]
  },
  {
   "cell_type": "code",
   "execution_count": 15,
   "id": "97baa5b6-4b33-42a7-b89f-2ee41908bf96",
   "metadata": {},
   "outputs": [
    {
     "data": {
      "text/plain": [
       "'Order Date'"
      ]
     },
     "execution_count": 15,
     "metadata": {},
     "output_type": "execute_result"
    }
   ],
   "source": [
    "sales_df['Order Date'][254]"
   ]
  },
  {
   "cell_type": "markdown",
   "id": "82c35dd3-a77f-4889-b0e5-dc9d982660ea",
   "metadata": {},
   "source": [
    "> it seems that the invalid entry is on row 254"
   ]
  },
  {
   "cell_type": "code",
   "execution_count": 16,
   "id": "a0813e68-20c9-4d5e-ae23-ca37f0009aad",
   "metadata": {},
   "outputs": [
    {
     "data": {
      "text/html": [
       "<div>\n",
       "<style scoped>\n",
       "    .dataframe tbody tr th:only-of-type {\n",
       "        vertical-align: middle;\n",
       "    }\n",
       "\n",
       "    .dataframe tbody tr th {\n",
       "        vertical-align: top;\n",
       "    }\n",
       "\n",
       "    .dataframe thead th {\n",
       "        text-align: right;\n",
       "    }\n",
       "</style>\n",
       "<table border=\"1\" class=\"dataframe\">\n",
       "  <thead>\n",
       "    <tr style=\"text-align: right;\">\n",
       "      <th></th>\n",
       "      <th>Order ID</th>\n",
       "      <th>Product</th>\n",
       "      <th>Quantity Ordered</th>\n",
       "      <th>Price Each</th>\n",
       "      <th>Order Date</th>\n",
       "      <th>Purchase Address</th>\n",
       "    </tr>\n",
       "  </thead>\n",
       "  <tbody>\n",
       "    <tr>\n",
       "      <th>254</th>\n",
       "      <td>Order ID</td>\n",
       "      <td>Product</td>\n",
       "      <td>Quantity Ordered</td>\n",
       "      <td>Price Each</td>\n",
       "      <td>Order Date</td>\n",
       "      <td>Purchase Address</td>\n",
       "    </tr>\n",
       "  </tbody>\n",
       "</table>\n",
       "</div>"
      ],
      "text/plain": [
       "     Order ID  Product  Quantity Ordered  Price Each  Order Date  \\\n",
       "254  Order ID  Product  Quantity Ordered  Price Each  Order Date   \n",
       "\n",
       "     Purchase Address  \n",
       "254  Purchase Address  "
      ]
     },
     "execution_count": 16,
     "metadata": {},
     "output_type": "execute_result"
    }
   ],
   "source": [
    "sales_df.loc[sales_df['Order Date'] == 'Order Date']"
   ]
  },
  {
   "cell_type": "markdown",
   "id": "141bbec0-b45e-4200-9ffa-1e6a3bb00b75",
   "metadata": {},
   "source": [
    "> to fix that we will drop the entire row"
   ]
  },
  {
   "cell_type": "code",
   "execution_count": 17,
   "id": "33356fc5-73df-4b7a-85c6-89ca0ea3a3b6",
   "metadata": {},
   "outputs": [],
   "source": [
    "sales_df.drop([254], axis=0, inplace=True)"
   ]
  },
  {
   "cell_type": "code",
   "execution_count": 18,
   "id": "e7dd1a15-9f10-48bc-a06c-ba76430ca977",
   "metadata": {},
   "outputs": [
    {
     "data": {
      "text/html": [
       "<div>\n",
       "<style scoped>\n",
       "    .dataframe tbody tr th:only-of-type {\n",
       "        vertical-align: middle;\n",
       "    }\n",
       "\n",
       "    .dataframe tbody tr th {\n",
       "        vertical-align: top;\n",
       "    }\n",
       "\n",
       "    .dataframe thead th {\n",
       "        text-align: right;\n",
       "    }\n",
       "</style>\n",
       "<table border=\"1\" class=\"dataframe\">\n",
       "  <thead>\n",
       "    <tr style=\"text-align: right;\">\n",
       "      <th></th>\n",
       "      <th>Order ID</th>\n",
       "      <th>Product</th>\n",
       "      <th>Quantity Ordered</th>\n",
       "      <th>Price Each</th>\n",
       "      <th>Order Date</th>\n",
       "      <th>Purchase Address</th>\n",
       "    </tr>\n",
       "  </thead>\n",
       "  <tbody>\n",
       "  </tbody>\n",
       "</table>\n",
       "</div>"
      ],
      "text/plain": [
       "Empty DataFrame\n",
       "Columns: [Order ID, Product, Quantity Ordered, Price Each, Order Date, Purchase Address]\n",
       "Index: []"
      ]
     },
     "execution_count": 18,
     "metadata": {},
     "output_type": "execute_result"
    }
   ],
   "source": [
    "sales_df.loc[sales_df['Order Date'] == 'Order Date']"
   ]
  },
  {
   "cell_type": "markdown",
   "id": "c8ddf426-b3be-4fff-a91c-91b3427030d2",
   "metadata": {},
   "source": [
    "> now that we have fixed the issue, changing the 'Order Date' column to datetime should not raise any errors"
   ]
  },
  {
   "cell_type": "markdown",
   "id": "add95153-fd06-474b-bef7-5ecdc64f54ff",
   "metadata": {},
   "source": [
    "#### Here, we will change the 'Order Date' to datetime"
   ]
  },
  {
   "cell_type": "code",
   "execution_count": 19,
   "id": "55808bc7-8d1f-4b2c-bbb7-82b7327931cf",
   "metadata": {},
   "outputs": [],
   "source": [
    "sales_df['Order Date'] = pd.to_datetime(sales_df['Order Date'])"
   ]
  },
  {
   "cell_type": "code",
   "execution_count": 20,
   "id": "c1c642c5-1e45-4a21-940a-e9b6fc53c03b",
   "metadata": {},
   "outputs": [
    {
     "data": {
      "text/plain": [
       "Order ID                    object\n",
       "Product                     object\n",
       "Quantity Ordered            object\n",
       "Price Each                  object\n",
       "Order Date          datetime64[ns]\n",
       "Purchase Address            object\n",
       "dtype: object"
      ]
     },
     "execution_count": 20,
     "metadata": {},
     "output_type": "execute_result"
    }
   ],
   "source": [
    "sales_df.dtypes"
   ]
  },
  {
   "cell_type": "markdown",
   "id": "7a104e34-c96f-4609-9bcd-b315314132c8",
   "metadata": {},
   "source": [
    "> after checking the datatypes of columns, we can see that we successfully changed the 'Order Date' column to datetime, now we can extract the month number from the 'Order Date' column and later change it to month name"
   ]
  },
  {
   "cell_type": "code",
   "execution_count": 21,
   "id": "db13f875-e0df-4cb3-95db-82005c43fdd9",
   "metadata": {},
   "outputs": [
    {
     "data": {
      "text/html": [
       "<div>\n",
       "<style scoped>\n",
       "    .dataframe tbody tr th:only-of-type {\n",
       "        vertical-align: middle;\n",
       "    }\n",
       "\n",
       "    .dataframe tbody tr th {\n",
       "        vertical-align: top;\n",
       "    }\n",
       "\n",
       "    .dataframe thead th {\n",
       "        text-align: right;\n",
       "    }\n",
       "</style>\n",
       "<table border=\"1\" class=\"dataframe\">\n",
       "  <thead>\n",
       "    <tr style=\"text-align: right;\">\n",
       "      <th></th>\n",
       "      <th>Order ID</th>\n",
       "      <th>Product</th>\n",
       "      <th>Quantity Ordered</th>\n",
       "      <th>Price Each</th>\n",
       "      <th>Order Date</th>\n",
       "      <th>Purchase Address</th>\n",
       "    </tr>\n",
       "  </thead>\n",
       "  <tbody>\n",
       "    <tr>\n",
       "      <th>0</th>\n",
       "      <td>295665</td>\n",
       "      <td>Macbook Pro Laptop</td>\n",
       "      <td>1</td>\n",
       "      <td>1700</td>\n",
       "      <td>2019-12-30 00:01:00</td>\n",
       "      <td>136 Church St, New York City, NY 10001</td>\n",
       "    </tr>\n",
       "    <tr>\n",
       "      <th>1</th>\n",
       "      <td>295666</td>\n",
       "      <td>LG Washing Machine</td>\n",
       "      <td>1</td>\n",
       "      <td>600.0</td>\n",
       "      <td>2019-12-29 07:03:00</td>\n",
       "      <td>562 2nd St, New York City, NY 10001</td>\n",
       "    </tr>\n",
       "  </tbody>\n",
       "</table>\n",
       "</div>"
      ],
      "text/plain": [
       "  Order ID             Product Quantity Ordered Price Each  \\\n",
       "0   295665  Macbook Pro Laptop                1       1700   \n",
       "1   295666  LG Washing Machine                1      600.0   \n",
       "\n",
       "           Order Date                        Purchase Address  \n",
       "0 2019-12-30 00:01:00  136 Church St, New York City, NY 10001  \n",
       "1 2019-12-29 07:03:00     562 2nd St, New York City, NY 10001  "
      ]
     },
     "execution_count": 21,
     "metadata": {},
     "output_type": "execute_result"
    }
   ],
   "source": [
    "sales_df.head(2)"
   ]
  },
  {
   "cell_type": "markdown",
   "id": "bb6e250f-f09b-4291-9bc6-bcbb9c31d26b",
   "metadata": {},
   "source": [
    "> Now we will use the 'dt.month_name()' to extract the month name from the 'Order Date' column"
   ]
  },
  {
   "cell_type": "code",
   "execution_count": 22,
   "id": "4151d8ad-1129-403e-a6a9-855de0909a97",
   "metadata": {},
   "outputs": [],
   "source": [
    "sales_df['Month'] = sales_df['Order Date'].dt.month_name()"
   ]
  },
  {
   "cell_type": "code",
   "execution_count": 23,
   "id": "42d3e424-8a26-42a5-a10f-e41dd890741c",
   "metadata": {},
   "outputs": [
    {
     "data": {
      "text/html": [
       "<div>\n",
       "<style scoped>\n",
       "    .dataframe tbody tr th:only-of-type {\n",
       "        vertical-align: middle;\n",
       "    }\n",
       "\n",
       "    .dataframe tbody tr th {\n",
       "        vertical-align: top;\n",
       "    }\n",
       "\n",
       "    .dataframe thead th {\n",
       "        text-align: right;\n",
       "    }\n",
       "</style>\n",
       "<table border=\"1\" class=\"dataframe\">\n",
       "  <thead>\n",
       "    <tr style=\"text-align: right;\">\n",
       "      <th></th>\n",
       "      <th>Order ID</th>\n",
       "      <th>Product</th>\n",
       "      <th>Quantity Ordered</th>\n",
       "      <th>Price Each</th>\n",
       "      <th>Order Date</th>\n",
       "      <th>Purchase Address</th>\n",
       "      <th>Month</th>\n",
       "    </tr>\n",
       "  </thead>\n",
       "  <tbody>\n",
       "    <tr>\n",
       "      <th>0</th>\n",
       "      <td>295665</td>\n",
       "      <td>Macbook Pro Laptop</td>\n",
       "      <td>1</td>\n",
       "      <td>1700</td>\n",
       "      <td>2019-12-30 00:01:00</td>\n",
       "      <td>136 Church St, New York City, NY 10001</td>\n",
       "      <td>December</td>\n",
       "    </tr>\n",
       "    <tr>\n",
       "      <th>1</th>\n",
       "      <td>295666</td>\n",
       "      <td>LG Washing Machine</td>\n",
       "      <td>1</td>\n",
       "      <td>600.0</td>\n",
       "      <td>2019-12-29 07:03:00</td>\n",
       "      <td>562 2nd St, New York City, NY 10001</td>\n",
       "      <td>December</td>\n",
       "    </tr>\n",
       "  </tbody>\n",
       "</table>\n",
       "</div>"
      ],
      "text/plain": [
       "  Order ID             Product Quantity Ordered Price Each  \\\n",
       "0   295665  Macbook Pro Laptop                1       1700   \n",
       "1   295666  LG Washing Machine                1      600.0   \n",
       "\n",
       "           Order Date                        Purchase Address     Month  \n",
       "0 2019-12-30 00:01:00  136 Church St, New York City, NY 10001  December  \n",
       "1 2019-12-29 07:03:00     562 2nd St, New York City, NY 10001  December  "
      ]
     },
     "execution_count": 23,
     "metadata": {},
     "output_type": "execute_result"
    }
   ],
   "source": [
    "sales_df.head(2)"
   ]
  },
  {
   "cell_type": "code",
   "execution_count": 24,
   "id": "4c2264bd-2af6-428c-98f1-6a498a73631a",
   "metadata": {},
   "outputs": [
    {
     "data": {
      "text/plain": [
       "December     24944\n",
       "October      20249\n",
       "April        18257\n",
       "November     17544\n",
       "May          16552\n",
       "March        15128\n",
       "July         14275\n",
       "June         13535\n",
       "February     11957\n",
       "August       11943\n",
       "September    11603\n",
       "January       9699\n",
       "Name: Month, dtype: int64"
      ]
     },
     "execution_count": 24,
     "metadata": {},
     "output_type": "execute_result"
    }
   ],
   "source": [
    "sales_df['Month'].value_counts()"
   ]
  },
  {
   "cell_type": "markdown",
   "id": "6408c12f-7dcd-45a1-9dda-eab5fc91ea2b",
   "metadata": {},
   "source": [
    "## Analysis"
   ]
  },
  {
   "cell_type": "markdown",
   "id": "562d84b4-a6e2-4b40-8494-d19a373cb6bb",
   "metadata": {},
   "source": [
    "### Adding a Sales column"
   ]
  },
  {
   "cell_type": "markdown",
   "id": "602548e3-a0bd-4a27-8b1e-f1ad6faebdcd",
   "metadata": {},
   "source": [
    "> We can add the 'Sales' column by multiplying the 'Quantity Ordered' and 'Price Each' columns."
   ]
  },
  {
   "cell_type": "code",
   "execution_count": 25,
   "id": "244e23d7-19dd-4444-8ea6-42ffd7e58d0f",
   "metadata": {},
   "outputs": [
    {
     "data": {
      "text/plain": [
       "Order ID                    object\n",
       "Product                     object\n",
       "Quantity Ordered            object\n",
       "Price Each                  object\n",
       "Order Date          datetime64[ns]\n",
       "Purchase Address            object\n",
       "Month                       object\n",
       "dtype: object"
      ]
     },
     "execution_count": 25,
     "metadata": {},
     "output_type": "execute_result"
    }
   ],
   "source": [
    "sales_df.dtypes"
   ]
  },
  {
   "cell_type": "markdown",
   "id": "9f9d8feb-a968-4ffb-9057-283d0d1e2438",
   "metadata": {},
   "source": [
    "> By looking at the datatypes, we can see that 'Quantity Ordered' and 'Price Each' columns are of the datatype 'object', so we cannot do arithmetic operations with those values. Thus, we need to transform the datatypes into numerical values."
   ]
  },
  {
   "cell_type": "code",
   "execution_count": 26,
   "id": "5ebc7845-da00-4446-bd9e-9589e1c6eb02",
   "metadata": {},
   "outputs": [],
   "source": [
    "sales_df['Quantity Ordered'] = sales_df['Quantity Ordered'].astype(int)"
   ]
  },
  {
   "cell_type": "code",
   "execution_count": 27,
   "id": "0f82a15f-655d-41c4-8506-394a981ff76f",
   "metadata": {},
   "outputs": [],
   "source": [
    "sales_df['Price Each'] = sales_df['Price Each'].astype(float)"
   ]
  },
  {
   "cell_type": "code",
   "execution_count": 28,
   "id": "fb5730fe-db70-4830-b7be-3e6ea2be6e82",
   "metadata": {},
   "outputs": [
    {
     "data": {
      "text/plain": [
       "Order ID                    object\n",
       "Product                     object\n",
       "Quantity Ordered             int64\n",
       "Price Each                 float64\n",
       "Order Date          datetime64[ns]\n",
       "Purchase Address            object\n",
       "Month                       object\n",
       "dtype: object"
      ]
     },
     "execution_count": 28,
     "metadata": {},
     "output_type": "execute_result"
    }
   ],
   "source": [
    "sales_df.dtypes"
   ]
  },
  {
   "cell_type": "markdown",
   "id": "6083092e-faa8-4862-8485-965e3b2ce6c2",
   "metadata": {},
   "source": [
    "> After fixing the datatypes of the columns, we can now do arithmetic operations to be able to create the 'Sales' column"
   ]
  },
  {
   "cell_type": "markdown",
   "id": "91c91e5e-a85f-40d5-8861-c6ab66e87c3f",
   "metadata": {},
   "source": [
    "##### Now we add the 'Sales' column."
   ]
  },
  {
   "cell_type": "code",
   "execution_count": 29,
   "id": "2fe2984d-006f-48ba-b0a1-244d0f03f3df",
   "metadata": {},
   "outputs": [],
   "source": [
    "sales_df['Sales'] = sales_df['Quantity Ordered'] * sales_df['Price Each']"
   ]
  },
  {
   "cell_type": "code",
   "execution_count": 30,
   "id": "524ccfa9-3761-43fe-9c2c-58106dc18eae",
   "metadata": {},
   "outputs": [
    {
     "data": {
      "text/html": [
       "<div>\n",
       "<style scoped>\n",
       "    .dataframe tbody tr th:only-of-type {\n",
       "        vertical-align: middle;\n",
       "    }\n",
       "\n",
       "    .dataframe tbody tr th {\n",
       "        vertical-align: top;\n",
       "    }\n",
       "\n",
       "    .dataframe thead th {\n",
       "        text-align: right;\n",
       "    }\n",
       "</style>\n",
       "<table border=\"1\" class=\"dataframe\">\n",
       "  <thead>\n",
       "    <tr style=\"text-align: right;\">\n",
       "      <th></th>\n",
       "      <th>Order ID</th>\n",
       "      <th>Product</th>\n",
       "      <th>Quantity Ordered</th>\n",
       "      <th>Price Each</th>\n",
       "      <th>Order Date</th>\n",
       "      <th>Purchase Address</th>\n",
       "      <th>Month</th>\n",
       "      <th>Sales</th>\n",
       "    </tr>\n",
       "  </thead>\n",
       "  <tbody>\n",
       "    <tr>\n",
       "      <th>0</th>\n",
       "      <td>295665</td>\n",
       "      <td>Macbook Pro Laptop</td>\n",
       "      <td>1</td>\n",
       "      <td>1700.00</td>\n",
       "      <td>2019-12-30 00:01:00</td>\n",
       "      <td>136 Church St, New York City, NY 10001</td>\n",
       "      <td>December</td>\n",
       "      <td>1700.00</td>\n",
       "    </tr>\n",
       "    <tr>\n",
       "      <th>1</th>\n",
       "      <td>295666</td>\n",
       "      <td>LG Washing Machine</td>\n",
       "      <td>1</td>\n",
       "      <td>600.00</td>\n",
       "      <td>2019-12-29 07:03:00</td>\n",
       "      <td>562 2nd St, New York City, NY 10001</td>\n",
       "      <td>December</td>\n",
       "      <td>600.00</td>\n",
       "    </tr>\n",
       "    <tr>\n",
       "      <th>2</th>\n",
       "      <td>295667</td>\n",
       "      <td>USB-C Charging Cable</td>\n",
       "      <td>1</td>\n",
       "      <td>11.95</td>\n",
       "      <td>2019-12-12 18:21:00</td>\n",
       "      <td>277 Main St, New York City, NY 10001</td>\n",
       "      <td>December</td>\n",
       "      <td>11.95</td>\n",
       "    </tr>\n",
       "    <tr>\n",
       "      <th>3</th>\n",
       "      <td>295668</td>\n",
       "      <td>27in FHD Monitor</td>\n",
       "      <td>1</td>\n",
       "      <td>149.99</td>\n",
       "      <td>2019-12-22 15:13:00</td>\n",
       "      <td>410 6th St, San Francisco, CA 94016</td>\n",
       "      <td>December</td>\n",
       "      <td>149.99</td>\n",
       "    </tr>\n",
       "    <tr>\n",
       "      <th>4</th>\n",
       "      <td>295669</td>\n",
       "      <td>USB-C Charging Cable</td>\n",
       "      <td>1</td>\n",
       "      <td>11.95</td>\n",
       "      <td>2019-12-18 12:38:00</td>\n",
       "      <td>43 Hill St, Atlanta, GA 30301</td>\n",
       "      <td>December</td>\n",
       "      <td>11.95</td>\n",
       "    </tr>\n",
       "  </tbody>\n",
       "</table>\n",
       "</div>"
      ],
      "text/plain": [
       "  Order ID               Product  Quantity Ordered  Price Each  \\\n",
       "0   295665    Macbook Pro Laptop                 1     1700.00   \n",
       "1   295666    LG Washing Machine                 1      600.00   \n",
       "2   295667  USB-C Charging Cable                 1       11.95   \n",
       "3   295668      27in FHD Monitor                 1      149.99   \n",
       "4   295669  USB-C Charging Cable                 1       11.95   \n",
       "\n",
       "           Order Date                        Purchase Address     Month  \\\n",
       "0 2019-12-30 00:01:00  136 Church St, New York City, NY 10001  December   \n",
       "1 2019-12-29 07:03:00     562 2nd St, New York City, NY 10001  December   \n",
       "2 2019-12-12 18:21:00    277 Main St, New York City, NY 10001  December   \n",
       "3 2019-12-22 15:13:00     410 6th St, San Francisco, CA 94016  December   \n",
       "4 2019-12-18 12:38:00           43 Hill St, Atlanta, GA 30301  December   \n",
       "\n",
       "     Sales  \n",
       "0  1700.00  \n",
       "1   600.00  \n",
       "2    11.95  \n",
       "3   149.99  \n",
       "4    11.95  "
      ]
     },
     "execution_count": 30,
     "metadata": {},
     "output_type": "execute_result"
    }
   ],
   "source": [
    "sales_df.head()"
   ]
  },
  {
   "cell_type": "markdown",
   "id": "585e6cfd-5a25-49de-a9c0-3f557486e6e9",
   "metadata": {},
   "source": [
    "### Question 1: What was the best month in sales? How much was earned that month?"
   ]
  },
  {
   "cell_type": "markdown",
   "id": "e0997767-4c1a-453c-b225-6ac1364c5f2c",
   "metadata": {},
   "source": [
    "> to answer those questions we will need to get the total sales for each month."
   ]
  },
  {
   "cell_type": "code",
   "execution_count": 31,
   "id": "8008b2d1-9398-43a3-a55d-46f60a58c1dd",
   "metadata": {
    "tags": []
   },
   "outputs": [
    {
     "data": {
      "text/html": [
       "<div>\n",
       "<style scoped>\n",
       "    .dataframe tbody tr th:only-of-type {\n",
       "        vertical-align: middle;\n",
       "    }\n",
       "\n",
       "    .dataframe tbody tr th {\n",
       "        vertical-align: top;\n",
       "    }\n",
       "\n",
       "    .dataframe thead th {\n",
       "        text-align: right;\n",
       "    }\n",
       "</style>\n",
       "<table border=\"1\" class=\"dataframe\">\n",
       "  <thead>\n",
       "    <tr style=\"text-align: right;\">\n",
       "      <th></th>\n",
       "      <th>Quantity Ordered</th>\n",
       "      <th>Price Each</th>\n",
       "      <th>Sales</th>\n",
       "    </tr>\n",
       "    <tr>\n",
       "      <th>Month</th>\n",
       "      <th></th>\n",
       "      <th></th>\n",
       "      <th></th>\n",
       "    </tr>\n",
       "  </thead>\n",
       "  <tbody>\n",
       "    <tr>\n",
       "      <th>April</th>\n",
       "      <td>20536</td>\n",
       "      <td>3366218.76</td>\n",
       "      <td>3389217.98</td>\n",
       "    </tr>\n",
       "    <tr>\n",
       "      <th>August</th>\n",
       "      <td>13429</td>\n",
       "      <td>2226963.90</td>\n",
       "      <td>2241083.37</td>\n",
       "    </tr>\n",
       "    <tr>\n",
       "      <th>December</th>\n",
       "      <td>28074</td>\n",
       "      <td>4583267.77</td>\n",
       "      <td>4608295.70</td>\n",
       "    </tr>\n",
       "    <tr>\n",
       "      <th>February</th>\n",
       "      <td>13431</td>\n",
       "      <td>2186940.38</td>\n",
       "      <td>2200078.08</td>\n",
       "    </tr>\n",
       "    <tr>\n",
       "      <th>January</th>\n",
       "      <td>10893</td>\n",
       "      <td>1810924.81</td>\n",
       "      <td>1821413.16</td>\n",
       "    </tr>\n",
       "    <tr>\n",
       "      <th>July</th>\n",
       "      <td>16054</td>\n",
       "      <td>2631225.12</td>\n",
       "      <td>2646461.32</td>\n",
       "    </tr>\n",
       "    <tr>\n",
       "      <th>June</th>\n",
       "      <td>15234</td>\n",
       "      <td>2560503.50</td>\n",
       "      <td>2576280.15</td>\n",
       "    </tr>\n",
       "    <tr>\n",
       "      <th>March</th>\n",
       "      <td>16979</td>\n",
       "      <td>2789084.64</td>\n",
       "      <td>2804973.35</td>\n",
       "    </tr>\n",
       "    <tr>\n",
       "      <th>May</th>\n",
       "      <td>18653</td>\n",
       "      <td>3133134.61</td>\n",
       "      <td>3150616.23</td>\n",
       "    </tr>\n",
       "    <tr>\n",
       "      <th>November</th>\n",
       "      <td>19769</td>\n",
       "      <td>3178872.53</td>\n",
       "      <td>3197875.05</td>\n",
       "    </tr>\n",
       "    <tr>\n",
       "      <th>October</th>\n",
       "      <td>22669</td>\n",
       "      <td>3713608.80</td>\n",
       "      <td>3734777.86</td>\n",
       "    </tr>\n",
       "    <tr>\n",
       "      <th>September</th>\n",
       "      <td>13091</td>\n",
       "      <td>2081897.65</td>\n",
       "      <td>2094465.69</td>\n",
       "    </tr>\n",
       "  </tbody>\n",
       "</table>\n",
       "</div>"
      ],
      "text/plain": [
       "           Quantity Ordered  Price Each       Sales\n",
       "Month                                              \n",
       "April                 20536  3366218.76  3389217.98\n",
       "August                13429  2226963.90  2241083.37\n",
       "December              28074  4583267.77  4608295.70\n",
       "February              13431  2186940.38  2200078.08\n",
       "January               10893  1810924.81  1821413.16\n",
       "July                  16054  2631225.12  2646461.32\n",
       "June                  15234  2560503.50  2576280.15\n",
       "March                 16979  2789084.64  2804973.35\n",
       "May                   18653  3133134.61  3150616.23\n",
       "November              19769  3178872.53  3197875.05\n",
       "October               22669  3713608.80  3734777.86\n",
       "September             13091  2081897.65  2094465.69"
      ]
     },
     "execution_count": 31,
     "metadata": {},
     "output_type": "execute_result"
    }
   ],
   "source": [
    "sales_df.groupby(sales_df['Month']).sum()"
   ]
  },
  {
   "cell_type": "code",
   "execution_count": 32,
   "id": "39bcab12-57e3-4ba1-8576-375d18ab8034",
   "metadata": {},
   "outputs": [
    {
     "data": {
      "text/plain": [
       "Month\n",
       "April        3389217.98\n",
       "August       2241083.37\n",
       "December     4608295.70\n",
       "February     2200078.08\n",
       "January      1821413.16\n",
       "July         2646461.32\n",
       "June         2576280.15\n",
       "March        2804973.35\n",
       "May          3150616.23\n",
       "November     3197875.05\n",
       "October      3734777.86\n",
       "September    2094465.69\n",
       "Name: Sales, dtype: float64"
      ]
     },
     "execution_count": 32,
     "metadata": {},
     "output_type": "execute_result"
    }
   ],
   "source": [
    "sales_results = sales_df['Sales'].groupby(sales_df['Month']).sum()\n",
    "sales_results"
   ]
  },
  {
   "cell_type": "code",
   "execution_count": 33,
   "id": "90b56852-e356-4797-a3cc-d4c2d17a7476",
   "metadata": {},
   "outputs": [],
   "source": [
    "months = [month for month, df in sales_df.groupby('Month')]"
   ]
  },
  {
   "cell_type": "code",
   "execution_count": 34,
   "id": "0e5b2994-1160-481b-974a-fd308619fe37",
   "metadata": {},
   "outputs": [
    {
     "data": {
      "text/plain": [
       "4608295.7"
      ]
     },
     "execution_count": 34,
     "metadata": {},
     "output_type": "execute_result"
    }
   ],
   "source": [
    "sales_results.max()"
   ]
  },
  {
   "cell_type": "code",
   "execution_count": 35,
   "id": "667e42e0-9b91-45c7-8bb8-fcc838db6391",
   "metadata": {},
   "outputs": [
    {
     "data": {
      "image/png": "[encoded data removed]",
      "text/plain": [
       "<Figure size 864x576 with 1 Axes>"
      ]
     },
     "metadata": {
      "needs_background": "light"
     },
     "output_type": "display_data"
    }
   ],
   "source": [
    "plt.subplots(figsize=(12, 8))\n",
    "plt.ticklabel_format(style='plain')\n",
    "plt.bar(months, sales_results)\n",
    "plt.xticks(months, fontsize=10)\n",
    "plt.xlabel('Months', fontsize=15)\n",
    "plt.ylabel('Sales in ($)', fontsize=15)\n",
    "plt.show()"
   ]
  },
  {
   "cell_type": "markdown",
   "id": "ab8d9fb6-a939-4dbf-8330-03300a526834",
   "metadata": {},
   "source": [
    "> According to the visualization above, we can conclude that December had the highest sales, and total sales for that month were $4,608,296"
   ]
  },
  {
   "cell_type": "markdown",
   "id": "51d0617c-87a4-4bde-9a84-d09257f6ad3d",
   "metadata": {
    "tags": []
   },
   "source": [
    "### Question 2: Which city had the highest number of sales"
   ]
  },
  {
   "cell_type": "markdown",
   "id": "df2b5b9c-f985-4e91-8ffe-fa7dc4a29c06",
   "metadata": {},
   "source": [
    "> To determine which city had the highest number of sales we would first add a new column; 'City', and then group total sales by cities to figure out which city had the highest sales"
   ]
  },
  {
   "cell_type": "code",
   "execution_count": 36,
   "id": "f2e5f6c6-f617-415a-b8b2-600143065061",
   "metadata": {},
   "outputs": [],
   "source": [
    "sales_df['City'] = sales_df['Purchase Address'].apply(lambda x: x.split(',')[1].strip())"
   ]
  },
  {
   "cell_type": "code",
   "execution_count": 37,
   "id": "1bff6246-0c37-4e62-a603-bd1993a6112b",
   "metadata": {},
   "outputs": [
    {
     "data": {
      "text/html": [
       "<div>\n",
       "<style scoped>\n",
       "    .dataframe tbody tr th:only-of-type {\n",
       "        vertical-align: middle;\n",
       "    }\n",
       "\n",
       "    .dataframe tbody tr th {\n",
       "        vertical-align: top;\n",
       "    }\n",
       "\n",
       "    .dataframe thead th {\n",
       "        text-align: right;\n",
       "    }\n",
       "</style>\n",
       "<table border=\"1\" class=\"dataframe\">\n",
       "  <thead>\n",
       "    <tr style=\"text-align: right;\">\n",
       "      <th></th>\n",
       "      <th>Order ID</th>\n",
       "      <th>Product</th>\n",
       "      <th>Quantity Ordered</th>\n",
       "      <th>Price Each</th>\n",
       "      <th>Order Date</th>\n",
       "      <th>Purchase Address</th>\n",
       "      <th>Month</th>\n",
       "      <th>Sales</th>\n",
       "      <th>City</th>\n",
       "    </tr>\n",
       "  </thead>\n",
       "  <tbody>\n",
       "    <tr>\n",
       "      <th>185686</th>\n",
       "      <td>222908</td>\n",
       "      <td>USB-C Charging Cable</td>\n",
       "      <td>1</td>\n",
       "      <td>11.95</td>\n",
       "      <td>2019-06-26 18:35:00</td>\n",
       "      <td>916 Main St, San Francisco, CA 94016</td>\n",
       "      <td>June</td>\n",
       "      <td>11.95</td>\n",
       "      <td>San Francisco</td>\n",
       "    </tr>\n",
       "    <tr>\n",
       "      <th>185687</th>\n",
       "      <td>222909</td>\n",
       "      <td>AAA Batteries (4-pack)</td>\n",
       "      <td>1</td>\n",
       "      <td>2.99</td>\n",
       "      <td>2019-06-25 14:33:00</td>\n",
       "      <td>209 11th St, Atlanta, GA 30301</td>\n",
       "      <td>June</td>\n",
       "      <td>2.99</td>\n",
       "      <td>Atlanta</td>\n",
       "    </tr>\n",
       "  </tbody>\n",
       "</table>\n",
       "</div>"
      ],
      "text/plain": [
       "       Order ID                 Product  Quantity Ordered  Price Each  \\\n",
       "185686   222908    USB-C Charging Cable                 1       11.95   \n",
       "185687   222909  AAA Batteries (4-pack)                 1        2.99   \n",
       "\n",
       "                Order Date                      Purchase Address Month  Sales  \\\n",
       "185686 2019-06-26 18:35:00  916 Main St, San Francisco, CA 94016  June  11.95   \n",
       "185687 2019-06-25 14:33:00        209 11th St, Atlanta, GA 30301  June   2.99   \n",
       "\n",
       "                 City  \n",
       "185686  San Francisco  \n",
       "185687        Atlanta  "
      ]
     },
     "execution_count": 37,
     "metadata": {},
     "output_type": "execute_result"
    }
   ],
   "source": [
    "sales_df.tail(2)"
   ]
  },
  {
   "cell_type": "code",
   "execution_count": 38,
   "id": "6a06413c-c7bb-476a-8905-0298f60e2599",
   "metadata": {},
   "outputs": [],
   "source": [
    "city_results = sales_df['Sales'].groupby(sales_df['City']).sum()"
   ]
  },
  {
   "cell_type": "code",
   "execution_count": 39,
   "id": "adba978d-3621-4041-82c0-cec75a7e3853",
   "metadata": {},
   "outputs": [],
   "source": [
    "cities = [x for x, df in sales_df.groupby(sales_df['City'])]"
   ]
  },
  {
   "cell_type": "code",
   "execution_count": 40,
   "id": "d3d639c6-2863-45d5-8bb5-fb8b7e7a7ac9",
   "metadata": {},
   "outputs": [
    {
     "data": {
      "image/png": "[encoded data removed]",
      "text/plain": [
       "<Figure size 864x576 with 1 Axes>"
      ]
     },
     "metadata": {
      "needs_background": "light"
     },
     "output_type": "display_data"
    }
   ],
   "source": [
    "plt.subplots(figsize=(12, 8))\n",
    "plt.ticklabel_format(style='plain')\n",
    "plt.bar(cities, city_results)\n",
    "plt.xticks(cities)\n",
    "plt.yticks(np.arange(0, 9000000, 1000000))\n",
    "plt.xlabel('City')\n",
    "plt.ylabel('Sales in ($)')\n",
    "plt.show()"
   ]
  },
  {
   "cell_type": "markdown",
   "id": "281d5546-2a72-4fb0-ab15-0999abae8640",
   "metadata": {},
   "source": [
    "> According to the bar chart above. It seems that the city with the highest sales is San Francisco"
   ]
  },
  {
   "cell_type": "markdown",
   "id": "b7972e70-15ff-4362-9c62-0e6373746971",
   "metadata": {},
   "source": [
    "### Question 3: What time should we display advertisements to maximize the likelihood of a customer buying our product?"
   ]
  },
  {
   "cell_type": "markdown",
   "id": "66045fc1-6630-4641-abf6-03cf51fb65c6",
   "metadata": {},
   "source": [
    "> to answer this question, we will start by extracting the time from the 'Order Date' column, then plot the hours on a chart to see which time is more frequent. This would indicate the best time to display advertisements."
   ]
  },
  {
   "cell_type": "code",
   "execution_count": 41,
   "id": "459b72f5-8243-4307-8978-84e652c2a7c9",
   "metadata": {
    "tags": []
   },
   "outputs": [
    {
     "data": {
      "text/html": [
       "<div>\n",
       "<style scoped>\n",
       "    .dataframe tbody tr th:only-of-type {\n",
       "        vertical-align: middle;\n",
       "    }\n",
       "\n",
       "    .dataframe tbody tr th {\n",
       "        vertical-align: top;\n",
       "    }\n",
       "\n",
       "    .dataframe thead th {\n",
       "        text-align: right;\n",
       "    }\n",
       "</style>\n",
       "<table border=\"1\" class=\"dataframe\">\n",
       "  <thead>\n",
       "    <tr style=\"text-align: right;\">\n",
       "      <th></th>\n",
       "      <th>Order ID</th>\n",
       "      <th>Product</th>\n",
       "      <th>Quantity Ordered</th>\n",
       "      <th>Price Each</th>\n",
       "      <th>Order Date</th>\n",
       "      <th>Purchase Address</th>\n",
       "      <th>Month</th>\n",
       "      <th>Sales</th>\n",
       "      <th>City</th>\n",
       "      <th>Time</th>\n",
       "    </tr>\n",
       "  </thead>\n",
       "  <tbody>\n",
       "    <tr>\n",
       "      <th>0</th>\n",
       "      <td>295665</td>\n",
       "      <td>Macbook Pro Laptop</td>\n",
       "      <td>1</td>\n",
       "      <td>1700.0</td>\n",
       "      <td>2019-12-30 00:01:00</td>\n",
       "      <td>136 Church St, New York City, NY 10001</td>\n",
       "      <td>December</td>\n",
       "      <td>1700.0</td>\n",
       "      <td>New York City</td>\n",
       "      <td>00:00</td>\n",
       "    </tr>\n",
       "    <tr>\n",
       "      <th>1</th>\n",
       "      <td>295666</td>\n",
       "      <td>LG Washing Machine</td>\n",
       "      <td>1</td>\n",
       "      <td>600.0</td>\n",
       "      <td>2019-12-29 07:03:00</td>\n",
       "      <td>562 2nd St, New York City, NY 10001</td>\n",
       "      <td>December</td>\n",
       "      <td>600.0</td>\n",
       "      <td>New York City</td>\n",
       "      <td>07:00</td>\n",
       "    </tr>\n",
       "  </tbody>\n",
       "</table>\n",
       "</div>"
      ],
      "text/plain": [
       "  Order ID             Product  Quantity Ordered  Price Each  \\\n",
       "0   295665  Macbook Pro Laptop                 1      1700.0   \n",
       "1   295666  LG Washing Machine                 1       600.0   \n",
       "\n",
       "           Order Date                        Purchase Address     Month  \\\n",
       "0 2019-12-30 00:01:00  136 Church St, New York City, NY 10001  December   \n",
       "1 2019-12-29 07:03:00     562 2nd St, New York City, NY 10001  December   \n",
       "\n",
       "    Sales           City   Time  \n",
       "0  1700.0  New York City  00:00  \n",
       "1   600.0  New York City  07:00  "
      ]
     },
     "execution_count": 41,
     "metadata": {},
     "output_type": "execute_result"
    }
   ],
   "source": [
    "sales_df['Time'] = sales_df['Order Date'].dt.strftime('%H').add(':00')\n",
    "sales_df.head(2)"
   ]
  },
  {
   "cell_type": "code",
   "execution_count": 42,
   "id": "1dc50b40-97b6-4efb-baf9-ad9c50378705",
   "metadata": {
    "tags": []
   },
   "outputs": [],
   "source": [
    "hours = [hour for hour, df in sales_df.groupby(sales_df['Time'])]\n",
    "hour_frequency = sales_df['Sales'].groupby(sales_df['Time']).count()"
   ]
  },
  {
   "cell_type": "code",
   "execution_count": 43,
   "id": "b2924a79-1403-4cda-910e-36425e3173ef",
   "metadata": {
    "tags": []
   },
   "outputs": [
    {
     "data": {
      "image/png": "[encoded data removed]",
      "text/plain": [
       "<Figure size 1152x576 with 1 Axes>"
      ]
     },
     "metadata": {
      "needs_background": "light"
     },
     "output_type": "display_data"
    }
   ],
   "source": [
    "plt.subplots(figsize=(16,8))\n",
    "plt.yticks(np.arange(0, 14000, 1000))\n",
    "plt.xticks()\n",
    "plt.plot(hours, hour_frequency)\n",
    "plt.xlabel('Hours', fontsize=15)\n",
    "plt.ylabel('Number of Orders', fontsize=15)\n",
    "plt.grid()\n",
    "plt.show()"
   ]
  },
  {
   "cell_type": "markdown",
   "id": "fd99e39e-c027-47f7-8884-8f0f72f1b492",
   "metadata": {},
   "source": [
    "> Based on the graph above, we can see that the most frequent times when customers placed orders were from 11:00 to 13:00 and fom 18:30 to 19:30. So displaying advertisements before or around those times would maximize the likelihood of a customer buying our products."
   ]
  },
  {
   "cell_type": "markdown",
   "id": "c52c8f21-fee5-4a30-bf43-03c3351c6c8b",
   "metadata": {},
   "source": [
    "> to answer that question, we will filter out the duplicated Order IDs, and plot the products associated with those Order Ids, in order to figure out which products are sold together more often."
   ]
  },
  {
   "cell_type": "code",
   "execution_count": null,
   "id": "8a01ac4c-02c3-40ae-888c-f531502055cb",
   "metadata": {},
   "outputs": [],
   "source": []
  },
  {
   "cell_type": "code",
   "execution_count": null,
   "id": "99b6277b-6296-4cd0-9c15-d2d9174beb5f",
   "metadata": {},
   "outputs": [],
   "source": []
  },
  {
   "cell_type": "code",
   "execution_count": null,
   "id": "145fc59a-2639-4230-b7d2-0750d95642f0",
   "metadata": {},
   "outputs": [],
   "source": []
  },
  {
   "cell_type": "markdown",
   "id": "59422d10-d730-424c-938b-a3ac9a1060e1",
   "metadata": {},
   "source": [
    "### Question 4: Which product(s) sold the most? and what is your interpretation to that?"
   ]
  },
  {
   "cell_type": "markdown",
   "id": "675214ca-decf-4ccd-9f28-0d7927c4c534",
   "metadata": {},
   "source": [
    "> to answer this question, we will need to count the orders of every product. And then plot them on a bar chart to be able to visualize which product(s) sold the most."
   ]
  },
  {
   "cell_type": "code",
   "execution_count": 44,
   "id": "abc7d1ce-7116-4385-91da-d993bb9c4dd7",
   "metadata": {},
   "outputs": [
    {
     "data": {
      "text/html": [
       "<div>\n",
       "<style scoped>\n",
       "    .dataframe tbody tr th:only-of-type {\n",
       "        vertical-align: middle;\n",
       "    }\n",
       "\n",
       "    .dataframe tbody tr th {\n",
       "        vertical-align: top;\n",
       "    }\n",
       "\n",
       "    .dataframe thead th {\n",
       "        text-align: right;\n",
       "    }\n",
       "</style>\n",
       "<table border=\"1\" class=\"dataframe\">\n",
       "  <thead>\n",
       "    <tr style=\"text-align: right;\">\n",
       "      <th></th>\n",
       "      <th>Order ID</th>\n",
       "      <th>Product</th>\n",
       "      <th>Quantity Ordered</th>\n",
       "      <th>Price Each</th>\n",
       "      <th>Order Date</th>\n",
       "      <th>Purchase Address</th>\n",
       "      <th>Month</th>\n",
       "      <th>Sales</th>\n",
       "      <th>City</th>\n",
       "      <th>Time</th>\n",
       "    </tr>\n",
       "  </thead>\n",
       "  <tbody>\n",
       "    <tr>\n",
       "      <th>0</th>\n",
       "      <td>295665</td>\n",
       "      <td>Macbook Pro Laptop</td>\n",
       "      <td>1</td>\n",
       "      <td>1700.00</td>\n",
       "      <td>2019-12-30 00:01:00</td>\n",
       "      <td>136 Church St, New York City, NY 10001</td>\n",
       "      <td>December</td>\n",
       "      <td>1700.00</td>\n",
       "      <td>New York City</td>\n",
       "      <td>00:00</td>\n",
       "    </tr>\n",
       "    <tr>\n",
       "      <th>1</th>\n",
       "      <td>295666</td>\n",
       "      <td>LG Washing Machine</td>\n",
       "      <td>1</td>\n",
       "      <td>600.00</td>\n",
       "      <td>2019-12-29 07:03:00</td>\n",
       "      <td>562 2nd St, New York City, NY 10001</td>\n",
       "      <td>December</td>\n",
       "      <td>600.00</td>\n",
       "      <td>New York City</td>\n",
       "      <td>07:00</td>\n",
       "    </tr>\n",
       "    <tr>\n",
       "      <th>2</th>\n",
       "      <td>295667</td>\n",
       "      <td>USB-C Charging Cable</td>\n",
       "      <td>1</td>\n",
       "      <td>11.95</td>\n",
       "      <td>2019-12-12 18:21:00</td>\n",
       "      <td>277 Main St, New York City, NY 10001</td>\n",
       "      <td>December</td>\n",
       "      <td>11.95</td>\n",
       "      <td>New York City</td>\n",
       "      <td>18:00</td>\n",
       "    </tr>\n",
       "    <tr>\n",
       "      <th>3</th>\n",
       "      <td>295668</td>\n",
       "      <td>27in FHD Monitor</td>\n",
       "      <td>1</td>\n",
       "      <td>149.99</td>\n",
       "      <td>2019-12-22 15:13:00</td>\n",
       "      <td>410 6th St, San Francisco, CA 94016</td>\n",
       "      <td>December</td>\n",
       "      <td>149.99</td>\n",
       "      <td>San Francisco</td>\n",
       "      <td>15:00</td>\n",
       "    </tr>\n",
       "    <tr>\n",
       "      <th>4</th>\n",
       "      <td>295669</td>\n",
       "      <td>USB-C Charging Cable</td>\n",
       "      <td>1</td>\n",
       "      <td>11.95</td>\n",
       "      <td>2019-12-18 12:38:00</td>\n",
       "      <td>43 Hill St, Atlanta, GA 30301</td>\n",
       "      <td>December</td>\n",
       "      <td>11.95</td>\n",
       "      <td>Atlanta</td>\n",
       "      <td>12:00</td>\n",
       "    </tr>\n",
       "  </tbody>\n",
       "</table>\n",
       "</div>"
      ],
      "text/plain": [
       "  Order ID               Product  Quantity Ordered  Price Each  \\\n",
       "0   295665    Macbook Pro Laptop                 1     1700.00   \n",
       "1   295666    LG Washing Machine                 1      600.00   \n",
       "2   295667  USB-C Charging Cable                 1       11.95   \n",
       "3   295668      27in FHD Monitor                 1      149.99   \n",
       "4   295669  USB-C Charging Cable                 1       11.95   \n",
       "\n",
       "           Order Date                        Purchase Address     Month  \\\n",
       "0 2019-12-30 00:01:00  136 Church St, New York City, NY 10001  December   \n",
       "1 2019-12-29 07:03:00     562 2nd St, New York City, NY 10001  December   \n",
       "2 2019-12-12 18:21:00    277 Main St, New York City, NY 10001  December   \n",
       "3 2019-12-22 15:13:00     410 6th St, San Francisco, CA 94016  December   \n",
       "4 2019-12-18 12:38:00           43 Hill St, Atlanta, GA 30301  December   \n",
       "\n",
       "     Sales           City   Time  \n",
       "0  1700.00  New York City  00:00  \n",
       "1   600.00  New York City  07:00  \n",
       "2    11.95  New York City  18:00  \n",
       "3   149.99  San Francisco  15:00  \n",
       "4    11.95        Atlanta  12:00  "
      ]
     },
     "execution_count": 44,
     "metadata": {},
     "output_type": "execute_result"
    }
   ],
   "source": [
    "sales_df.head()"
   ]
  },
  {
   "cell_type": "code",
   "execution_count": 45,
   "id": "94f30f4f-848f-4a65-baac-ec6ebe4bfc33",
   "metadata": {
    "tags": []
   },
   "outputs": [
    {
     "data": {
      "text/plain": [
       "Product\n",
       "20in Monitor                   4126\n",
       "27in 4K Gaming Monitor         6239\n",
       "27in FHD Monitor               7541\n",
       "34in Ultrawide Monitor         6192\n",
       "AA Batteries (4-pack)         27615\n",
       "AAA Batteries (4-pack)        30986\n",
       "Apple Airpods Headphones      15637\n",
       "Bose SoundSport Headphones    13430\n",
       "Flatscreen TV                  4813\n",
       "Google Phone                   5529\n",
       "LG Dryer                        646\n",
       "LG Washing Machine              666\n",
       "Lightning Charging Cable      23169\n",
       "Macbook Pro Laptop             4725\n",
       "ThinkPad Laptop                4128\n",
       "USB-C Charging Cable          23931\n",
       "Vareebadd Phone                2068\n",
       "Wired Headphones              20524\n",
       "iPhone                         6847\n",
       "Name: Quantity Ordered, dtype: int64"
      ]
     },
     "execution_count": 45,
     "metadata": {},
     "output_type": "execute_result"
    }
   ],
   "source": [
    "ordercounts = sales_df['Quantity Ordered'].groupby(sales_df['Product']).sum()\n",
    "ordercounts"
   ]
  },
  {
   "cell_type": "code",
   "execution_count": 46,
   "id": "4291bddf-5b4f-4825-84e8-6ece9ef67712",
   "metadata": {},
   "outputs": [
    {
     "data": {
      "text/plain": [
       "['20in Monitor',\n",
       " '27in 4K Gaming Monitor',\n",
       " '27in FHD Monitor',\n",
       " '34in Ultrawide Monitor',\n",
       " 'AA Batteries (4-pack)',\n",
       " 'AAA Batteries (4-pack)',\n",
       " 'Apple Airpods Headphones',\n",
       " 'Bose SoundSport Headphones',\n",
       " 'Flatscreen TV',\n",
       " 'Google Phone',\n",
       " 'LG Dryer',\n",
       " 'LG Washing Machine',\n",
       " 'Lightning Charging Cable',\n",
       " 'Macbook Pro Laptop',\n",
       " 'ThinkPad Laptop',\n",
       " 'USB-C Charging Cable',\n",
       " 'Vareebadd Phone',\n",
       " 'Wired Headphones',\n",
       " 'iPhone']"
      ]
     },
     "execution_count": 46,
     "metadata": {},
     "output_type": "execute_result"
    }
   ],
   "source": [
    "products = [product for product, df in sales_df.groupby(sales_df['Product'])]\n",
    "products"
   ]
  },
  {
   "cell_type": "code",
   "execution_count": 47,
   "id": "f976ef95-7be2-4eea-9c1a-dd7fb9569317",
   "metadata": {},
   "outputs": [
    {
     "data": {
      "image/png": "[encoded data removed]",
      "text/plain": [
       "<Figure size 864x576 with 1 Axes>"
      ]
     },
     "metadata": {
      "needs_background": "light"
     },
     "output_type": "display_data"
    }
   ],
   "source": [
    "plt.subplots(figsize=(12, 8))\n",
    "plt.bar(products, ordercounts)\n",
    "plt.xticks(rotation=90)\n",
    "plt.yticks(np.arange(0, 25000, 2000))\n",
    "plt.xlabel('Products', fontsize=15)\n",
    "plt.ylabel('Number of Orders', fontsize=15)\n",
    "plt.show()"
   ]
  },
  {
   "cell_type": "markdown",
   "id": "d3233287-b0a8-4a93-a674-f75ec2a9c941",
   "metadata": {},
   "source": [
    "> We will try and investigate to see if the price of the product has any correlation to the amount of product sales."
   ]
  },
  {
   "cell_type": "code",
   "execution_count": 48,
   "id": "f634e72b-8761-406a-9b19-5cdc352d3be0",
   "metadata": {},
   "outputs": [
    {
     "data": {
      "text/plain": [
       "Product\n",
       "20in Monitor                   109.99\n",
       "27in 4K Gaming Monitor         389.99\n",
       "27in FHD Monitor               149.99\n",
       "34in Ultrawide Monitor         379.99\n",
       "AA Batteries (4-pack)            3.84\n",
       "AAA Batteries (4-pack)           2.99\n",
       "Apple Airpods Headphones       150.00\n",
       "Bose SoundSport Headphones      99.99\n",
       "Flatscreen TV                  300.00\n",
       "Google Phone                   600.00\n",
       "LG Dryer                       600.00\n",
       "LG Washing Machine             600.00\n",
       "Lightning Charging Cable        14.95\n",
       "Macbook Pro Laptop            1700.00\n",
       "ThinkPad Laptop                999.99\n",
       "USB-C Charging Cable            11.95\n",
       "Vareebadd Phone                400.00\n",
       "Wired Headphones                11.99\n",
       "iPhone                         700.00\n",
       "Name: Price Each, dtype: float64"
      ]
     },
     "execution_count": 48,
     "metadata": {},
     "output_type": "execute_result"
    }
   ],
   "source": [
    "prices = sales_df['Price Each'].groupby(sales_df['Product']).unique().astype(float)\n",
    "prices"
   ]
  },
  {
   "cell_type": "code",
   "execution_count": 49,
   "id": "b69d2e57-b29c-4b51-9b88-0f4b24dba48c",
   "metadata": {},
   "outputs": [
    {
     "data": {
      "image/png": "[encoded data removed]",
      "text/plain": [
       "<Figure size 864x432 with 2 Axes>"
      ]
     },
     "metadata": {
      "needs_background": "light"
     },
     "output_type": "display_data"
    }
   ],
   "source": [
    "fig, ax1 = plt.subplots(figsize=(12, 6))\n",
    "\n",
    "plt.xticks(rotation=90)\n",
    "plt.grid()\n",
    "\n",
    "ax2 = ax1.twinx()\n",
    "\n",
    "ax1.bar(products, ordercounts, color=(0.2, 0.2, 0.2, 0.6))\n",
    "ax2.plot(products, prices)\n",
    "\n",
    "ax1.set_xlabel('Products')\n",
    "ax1.set_ylabel('Quantity Ordered', color=(0.2, 0.2, 0.2, 0.6))\n",
    "ax2.set_ylabel('Price Each', color=(0.3, 0.5, 0.6, 1))\n",
    "\n",
    "plt.show()"
   ]
  },
  {
   "cell_type": "markdown",
   "id": "d3abbd95-d457-4383-9f25-39fdfd2cfd2d",
   "metadata": {},
   "source": [
    "> Upon investigating this graph, we can observe that the price a product has different effects on the demand of the product. We can see that the most selling products are the AA & AAA Batteries (4-pack), since they are the lowest in price, but are in high demand, which justifies why they are the most selling items.\n",
    "\n",
    "\n",
    "> On the other hand, we can see that the Macbook Pro & ThinkPad Laptops are the highest priced products, but the demand for them are higher in contrast to the LG Washing Machine and Dryer sales. This could indicate that because washing machines and dryer are usually bought once every number of years, but the demand for laptops is higher because technology is constantly evolving.\n",
    "\n",
    "\n",
    "> Thus, we can conclude that the chance of a product being chosen and bought by a customer is usually driven by the demand for that product, with regards to its price relative to other products."
   ]
  },
  {
   "cell_type": "markdown",
   "id": "feca2954-42a7-4504-93f3-c723c66bec5d",
   "metadata": {},
   "source": [
    "### Exporting the updated dataframe to .csv"
   ]
  },
  {
   "cell_type": "code",
   "execution_count": 50,
   "id": "e356d09d-8e73-4240-a10c-0f33ec1ec973",
   "metadata": {},
   "outputs": [],
   "source": [
    "sales_df.to_csv('./all_data_updated.csv', index=False)"
   ]
  }
 ],
 "metadata": {
  "kernelspec": {
   "display_name": "Python 3 (ipykernel)",
   "language": "python",
   "name": "python3"
  },
  "language_info": {
   "codemirror_mode": {
    "name": "ipython",
    "version": 3
   },
   "file_extension": ".py",
   "mimetype": "text/x-python",
   "name": "python",
   "nbconvert_exporter": "python",
   "pygments_lexer": "ipython3",
   "version": "3.9.7"
  }
 },
 "nbformat": 4,
 "nbformat_minor": 5
}
